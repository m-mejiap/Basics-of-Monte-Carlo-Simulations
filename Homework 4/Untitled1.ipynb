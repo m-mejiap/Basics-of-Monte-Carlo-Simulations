{
 "cells": [
  {
   "cell_type": "code",
   "execution_count": 1,
   "metadata": {},
   "outputs": [],
   "source": [
    "import numpy as np\n",
    "import matplotlib.pylab as plt"
   ]
  },
  {
   "cell_type": "code",
   "execution_count": null,
   "metadata": {},
   "outputs": [],
   "source": [
    "#One.\n",
    "#Read in know shape of distribution fi(x) with Nf points.\n",
    "data = np.genfromtxt(\"distr1.dat\")\n",
    "Nf = 39\n",
    "#Calculate \"true mean\" xtrue from fi(x).\n",
    "true_mean = np.sum(data[:,1])/Nf"
   ]
  },
  {
   "cell_type": "code",
   "execution_count": null,
   "metadata": {},
   "outputs": [],
   "source": [
    "#Three.\n",
    "#Form the cumulative distribution Fk(x).\n",
    "Fk = np.sum(data[:,1]) !!!"
   ]
  },
  {
   "cell_type": "code",
   "execution_count": null,
   "metadata": {},
   "outputs": [],
   "source": [
    "#Four.\n",
    "#Set hj = 0 for all j = 1, ..., Nh, select delta(mean).\n",
    "hj = 0\n",
    "delta_mean = ?"
   ]
  },
  {
   "cell_type": "code",
   "execution_count": null,
   "metadata": {},
   "outputs": [],
   "source": [
    "#Five.\n",
    "#Do loop over distributions i=1,Nd.\n",
    "for i in range(0,Nd):\n",
    "    #Six.\n",
    "    #Set Dk = 0 for all k = 1, ..., Nf.\n",
    "    Dk = 0\n",
    "    #Seven.\n",
    "    #Do loop over counts j = 1, Nc.\n",
    "    for j in range(0,Nc):\n",
    "        #Eight.\n",
    "        #Generate a uniformaly distributed number u = Pu(0,1).\n",
    "        u = np.random.random()\n",
    "        #Nine.\n",
    "        #Find k such that Fk-1 < u < Fk.\n",
    "        ???\n",
    "        #Ten.\n",
    "        #Generate one count: set Dk = Dk + 1.\n",
    "        Dk += 1\n",
    "        #Eleven.\n",
    "        #End loop over count j = 1, Nc.\n",
    "    #Twelve.\n",
    "    #Calculate weighted mean x of distribution Dk.\n",
    "    ???\n",
    "    #Thirteen.\n",
    "    #For position j = mean/delta(mean) do hj = hj + 1.\n",
    "    ???\n",
    "    #Fourteen.\n",
    "    #End loop over distributions i = 1, Nd."
   ]
  },
  {
   "cell_type": "code",
   "execution_count": null,
   "metadata": {},
   "outputs": [],
   "source": [
    "#Fifteen.\n",
    "#Form the comulative distribution Hk(x).\n",
    "Hk = np.sum(hj)"
   ]
  },
  {
   "cell_type": "code",
   "execution_count": null,
   "metadata": {},
   "outputs": [],
   "source": [
    "#Sixteen.\n",
    "#Find the points xl and xu where Hk(x) = 0.16 and = 0.84.\n",
    "!!!"
   ]
  },
  {
   "cell_type": "code",
   "execution_count": null,
   "metadata": {},
   "outputs": [],
   "source": [
    "#Seventeen.\n",
    "#Report the lower bound uncertainty xtrue - xl and upper xu - xtrue.\n",
    "!!!"
   ]
  },
  {
   "cell_type": "code",
   "execution_count": null,
   "metadata": {},
   "outputs": [],
   "source": []
  }
 ],
 "metadata": {
  "kernelspec": {
   "display_name": "Python 3",
   "language": "python",
   "name": "python3"
  },
  "language_info": {
   "codemirror_mode": {
    "name": "ipython",
    "version": 3
   },
   "file_extension": ".py",
   "mimetype": "text/x-python",
   "name": "python",
   "nbconvert_exporter": "python",
   "pygments_lexer": "ipython3",
   "version": "3.7.6"
  }
 },
 "nbformat": 4,
 "nbformat_minor": 4
}
