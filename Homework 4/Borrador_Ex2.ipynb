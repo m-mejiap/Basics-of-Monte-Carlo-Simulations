{
 "cells": [
  {
   "cell_type": "code",
   "execution_count": 11,
   "metadata": {},
   "outputs": [],
   "source": [
    "import numpy as np\n",
    "import matplotlib.pylab as plt"
   ]
  },
  {
   "cell_type": "code",
   "execution_count": 12,
   "metadata": {},
   "outputs": [],
   "source": [
    "#One.\n",
    "#Read in know shape of distribution fi(x) with Nf points.\n",
    "data = np.genfromtxt(\"distr1.dat\")\n",
    "Nf = 39\n",
    "#Calculate \"true mean\" xtrue from fi(x).\n",
    "true_mean = np.sum(data[:,1])/Nf"
   ]
  },
  {
   "cell_type": "code",
   "execution_count": 13,
   "metadata": {},
   "outputs": [],
   "source": [
    "#Two.\n",
    "#Select number of counts to generate Nc in one distribution.\n",
    "Nc = 100\n",
    "#Select the number of distributions to generate Nd.\n",
    "Nd = 10\n",
    "#Deduce the maximun possible index in hj, call it Nh.\n",
    "Nh = Nc"
   ]
  },
  {
   "cell_type": "code",
   "execution_count": 14,
   "metadata": {},
   "outputs": [],
   "source": [
    "#Three.\n",
    "#Form the cumulative distribution Fk(x).\n",
    "suma = 0\n",
    "Fk = []\n",
    "for i in range(Nf):\n",
    "    suma += data[i,1]\n",
    "    Fk.append(suma)\n",
    "Fk = Fk/max(Fk)"
   ]
  },
  {
   "cell_type": "code",
   "execution_count": 15,
   "metadata": {},
   "outputs": [],
   "source": [
    "#Four.\n",
    "#Set hj = 0 for all j = 1, ..., Nh, select delta(mean).\n",
    "hj = np.zeros((Nh,1))\n",
    "delta_mean = 1"
   ]
  },
  {
   "cell_type": "code",
   "execution_count": 16,
   "metadata": {},
   "outputs": [],
   "source": [
    "#Five.\n",
    "#Do loop over distributions i=1,Nd.\n",
    "for i in range(0,Nd):\n",
    "    #Six.\n",
    "    #Set Dk = 0 for all k = 1, ..., Nf.\n",
    "    Dk = np.zeros((Nf,1))\n",
    "    #Seven.\n",
    "    #Do loop over counts j = 1, Nc.\n",
    "    for j in range(0,Nc):\n",
    "        #Eight.\n",
    "        #Generate a uniformaly distributed number u = Pu(0,1).\n",
    "        u = np.random.random()\n",
    "        #Nine.\n",
    "        #Find k such that Fk-1 < u < Fk.\n",
    "        for i in range(Nf):\n",
    "            if(Fk[i-1] < u and Fk[i] > u):\n",
    "                k = i\n",
    "        #Ten.\n",
    "        #Generate one count: set Dk = Dk + 1.\n",
    "        Dk[k] += 1\n",
    "        #Eleven.\n",
    "        #End loop over count j = 1, Nc.\n",
    "    #Twelve.\n",
    "    #Calculate weighted mean x of distribution Dk.\n",
    "    w_mean = np.sum(Dk)/Nc\n",
    "    #Thirteen.\n",
    "    #For position j = mean/delta(mean) do hj = hj + 1.\n",
    "    pos_j = w_mean / delta_mean\n",
    "    hj[int(pos_j)] = hj[int(pos_j)] + 1\n",
    "    #Fourteen.\n",
    "    #End loop over distributions i = 1, Nd."
   ]
  },
  {
   "cell_type": "code",
   "execution_count": 17,
   "metadata": {},
   "outputs": [],
   "source": [
    "#Fifteen.\n",
    "#Form the comulative distribution Hk(x).\n",
    "otra_suma = 0\n",
    "Hk = []\n",
    "for i in range(Nh):\n",
    "    otra_suma += hj[i]\n",
    "    Hk.append(otra_suma)"
   ]
  },
  {
   "cell_type": "code",
   "execution_count": 18,
   "metadata": {},
   "outputs": [],
   "source": [
    "#Sixteen.\n",
    "#Find the points xl and xu where Hk(x) = 0.16 and = 0.84.\n",
    "xl = 0\n",
    "xu = 0\n",
    "for i in range(len(Hk)):\n",
    "    if(Hk[i] == 0.16):\n",
    "        xl = hj[i]\n",
    "    if(Hk[i] == 0.84):\n",
    "        xu = hj[i]"
   ]
  },
  {
   "cell_type": "code",
   "execution_count": 19,
   "metadata": {},
   "outputs": [],
   "source": [
    "#Seventeen.\n",
    "#Report the lower bound uncertainty xtrue - xl and upper xu - xtrue.\n",
    "lower = true_mean - xl\n",
    "upper = xu - true_mean"
   ]
  },
  {
   "cell_type": "code",
   "execution_count": 21,
   "metadata": {},
   "outputs": [],
   "source": [
    "means = []\n",
    "for i in range(0,10):\n",
    "    dist = np.random.poisson(3,100)\n",
    "    means.append(np.sum(dist)/100)"
   ]
  },
  {
   "cell_type": "code",
   "execution_count": null,
   "metadata": {},
   "outputs": [],
   "source": []
  },
  {
   "cell_type": "code",
   "execution_count": null,
   "metadata": {},
   "outputs": [],
   "source": []
  }
 ],
 "metadata": {
  "kernelspec": {
   "display_name": "Python 3",
   "language": "python",
   "name": "python3"
  },
  "language_info": {
   "codemirror_mode": {
    "name": "ipython",
    "version": 3
   },
   "file_extension": ".py",
   "mimetype": "text/x-python",
   "name": "python",
   "nbconvert_exporter": "python",
   "pygments_lexer": "ipython3",
   "version": "3.7.6"
  }
 },
 "nbformat": 4,
 "nbformat_minor": 4
}
