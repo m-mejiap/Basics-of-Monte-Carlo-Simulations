{
 "cells": [
  {
   "cell_type": "code",
   "execution_count": 1,
   "metadata": {},
   "outputs": [],
   "source": [
    "import numpy as np\n",
    "import matplotlib.pylab as plt\n",
    "import math"
   ]
  },
  {
   "cell_type": "code",
   "execution_count": 2,
   "metadata": {},
   "outputs": [],
   "source": [
    "def VanDerCorput(index, base):\n",
    "    result = 0\n",
    "    f = 1\n",
    "    i = index\n",
    "    while(i>0):\n",
    "        f = f / base\n",
    "        result += f * (i % base)\n",
    "        i = math.floor(i/base)\n",
    "    return result"
   ]
  },
  {
   "cell_type": "code",
   "execution_count": 3,
   "metadata": {},
   "outputs": [
    {
     "name": "stdout",
     "output_type": "stream",
     "text": [
      "Base 7:\n",
      "501 0.6009995835068721\n",
      "502 0.7438567263640149\n",
      "503 0.8867138692211578\n",
      "504 0.049979175343606824\n",
      "505 0.19283631820074965\n",
      "506 0.33569346105789255\n",
      "507 0.4785506039150354\n",
      "508 0.6214077467721782\n",
      "509 0.764264889629321\n",
      "510 0.907122032486464\n",
      "Base 13:\n",
      "501 0.6103777878925809\n",
      "502 0.6873008648156578\n",
      "503 0.7642239417387346\n",
      "504 0.8411470186618116\n",
      "505 0.9180700955848886\n",
      "506 0.9949931725079655\n",
      "507 0.0013654984069185255\n",
      "508 0.07828857532999545\n",
      "509 0.15521165225307237\n",
      "510 0.2321347291761493\n"
     ]
    }
   ],
   "source": [
    "print(\"Base 7:\")\n",
    "for i in range(501,511):\n",
    "    print(i, VanDerCorput(i,7))\n",
    "    \n",
    "print(\"Base 13:\")\n",
    "for i in range(501,511):\n",
    "    print(i, VanDerCorput(i,13))"
   ]
  }
 ],
 "metadata": {
  "kernelspec": {
   "display_name": "Python 3",
   "language": "python",
   "name": "python3"
  },
  "language_info": {
   "codemirror_mode": {
    "name": "ipython",
    "version": 3
   },
   "file_extension": ".py",
   "mimetype": "text/x-python",
   "name": "python",
   "nbconvert_exporter": "python",
   "pygments_lexer": "ipython3",
   "version": "3.7.6"
  }
 },
 "nbformat": 4,
 "nbformat_minor": 4
}
