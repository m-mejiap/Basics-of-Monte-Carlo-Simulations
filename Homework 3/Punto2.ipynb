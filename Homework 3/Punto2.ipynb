{
 "cells": [
  {
   "cell_type": "code",
   "execution_count": 1,
   "metadata": {},
   "outputs": [],
   "source": [
    "import numpy as np\n",
    "import matplotlib.pylab as plt\n",
    "from scipy.special import gamma, factorial"
   ]
  },
  {
   "cell_type": "code",
   "execution_count": 2,
   "metadata": {},
   "outputs": [],
   "source": [
    "def volume(N,n_total):\n",
    "    R = 1\n",
    "    n_inside = 0\n",
    "    suma = 0\n",
    "    for i in range(0,n_total):\n",
    "        sq = 0\n",
    "        for i in range(0,N):\n",
    "            xi = R*(2*np.random.random()-1)\n",
    "            sq += xi**2\n",
    "        if(sq < R**2):\n",
    "            f = np.sqrt(R**2 - sq)\n",
    "            suma += f\n",
    "            n_inside += 1\n",
    "    mean = suma / n_inside\n",
    "    r1 = 2*np.pi*(R**2)*mean\n",
    "    return (2**N)*(n_inside/n_total)"
   ]
  },
  {
   "cell_type": "code",
   "execution_count": 3,
   "metadata": {},
   "outputs": [
    {
     "name": "stdout",
     "output_type": "stream",
     "text": [
      "1 2.0\n",
      "2 3.12928\n",
      "3 4.19256\n",
      "4 4.91888\n",
      "5 5.28\n",
      "6 5.12512\n",
      "7 4.768\n",
      "8 4.03456\n",
      "9 3.34848\n",
      "10 2.67264\n",
      "11 1.86368\n",
      "12 1.2288\n",
      "13 0.65536\n",
      "14 0.98304\n",
      "15 0.294912\n"
     ]
    }
   ],
   "source": [
    "for i in range (1,15):\n",
    "    print(i,volume(i,100000))\n",
    "print(15,volume(15,1000000))"
   ]
  },
  {
   "cell_type": "code",
   "execution_count": null,
   "metadata": {},
   "outputs": [],
   "source": []
  }
 ],
 "metadata": {
  "kernelspec": {
   "display_name": "Python 3",
   "language": "python",
   "name": "python3"
  },
  "language_info": {
   "codemirror_mode": {
    "name": "ipython",
    "version": 3
   },
   "file_extension": ".py",
   "mimetype": "text/x-python",
   "name": "python",
   "nbconvert_exporter": "python",
   "pygments_lexer": "ipython3",
   "version": "3.7.6"
  }
 },
 "nbformat": 4,
 "nbformat_minor": 4
}
